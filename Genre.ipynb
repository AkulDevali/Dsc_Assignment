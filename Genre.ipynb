{
 "cells": [
  {
   "cell_type": "code",
   "execution_count": 1,
   "metadata": {},
   "outputs": [
    {
     "name": "stdout",
     "output_type": "stream",
     "text": [
      "enter the name of the movie/series darK\n",
      "its a thriller\n"
     ]
    }
   ],
   "source": [
    "s= input(\"enter the name of the movie/series \")\n",
    "thriller=[\"Dark\",\"mindhunter\",\"parasite\",\"inception\",\"insidious\",\"interstellar\",\"prison break\",\"money heist\",\"war\",\"jack ryan\"]\n",
    "comedy=[\"friends\",\"3 idiots\",\"brooklyn 99\",\"how i met your mother\",\"rick morty\",\"the big bang theory\",\"the office\",\"space force\"]\n",
    "foundinthriller=False\n",
    "foundincomedy=False\n",
    "for i in thriller:\n",
    "   if i.lower()==s.lower():\n",
    "       foundinthriller=True\n",
    "       print(\"its a thriller\")\n",
    "if foundinthriller==False:\n",
    "    for i in comedy:\n",
    "                 if i==s.lower():\n",
    "                     foundincomedy=True\n",
    "                     print(\"its a comedy\")\n",
    "if foundinthriller==False and foundincomedy==False:\n",
    "    print(\"its neither a thriller nor a comedy\")"
   ]
  }
 ],
 "metadata": {
  "kernelspec": {
   "display_name": "Python 3",
   "language": "python",
   "name": "python3"
  },
  "language_info": {
   "codemirror_mode": {
    "name": "ipython",
    "version": 3
   },
   "file_extension": ".py",
   "mimetype": "text/x-python",
   "name": "python",
   "nbconvert_exporter": "python",
   "pygments_lexer": "ipython3",
   "version": "3.7.4"
  }
 },
 "nbformat": 4,
 "nbformat_minor": 4
}
