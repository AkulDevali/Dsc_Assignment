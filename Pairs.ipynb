{
 "cells": [
  {
   "cell_type": "code",
   "execution_count": null,
   "metadata": {},
   "outputs": [],
   "source": [
    "n=int(input())\n",
    "l=[]\n",
    "pairs=0\n",
    "matching=1\n",
    "totalpairs=0\n",
    "for i in range(0,n):\n",
    "    ele=int(input())\n",
    "    l.append(ele)\n",
    "print(l)\n",
    "\n",
    "for i in range(0,len(l)):\n",
    "    \n",
    "   if l[i]!=1.5:\n",
    "    \n",
    "    for j in range(i+1,len(l)):\n",
    "        if l[i]==l[j]:\n",
    "            matching=matching+1\n",
    "            l[j]=1.5\n",
    "    pairs=int(matching/2)\n",
    "    totalpairs=totalpairs+pairs\n",
    "    pairs=0\n",
    "    matching=1\n",
    "print(\"pairs are:\",totalpairs)\n",
    "    "
   ]
  }
 ],
 "metadata": {
  "kernelspec": {
   "display_name": "Python 3",
   "language": "python",
   "name": "python3"
  },
  "language_info": {
   "codemirror_mode": {
    "name": "ipython",
    "version": 3
   },
   "file_extension": ".py",
   "mimetype": "text/x-python",
   "name": "python",
   "nbconvert_exporter": "python",
   "pygments_lexer": "ipython3",
   "version": "3.7.4"
  }
 },
 "nbformat": 4,
 "nbformat_minor": 4
}
